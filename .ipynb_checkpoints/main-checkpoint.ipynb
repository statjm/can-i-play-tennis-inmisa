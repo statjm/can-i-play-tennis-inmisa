{
 "cells": [
  {
   "cell_type": "code",
   "execution_count": 1,
   "id": "91bde5f9-afd5-4813-a2ce-bde4626a2eb7",
   "metadata": {
    "execution": {
     "iopub.execute_input": "2022-01-15T03:51:54.556195Z",
     "iopub.status.busy": "2022-01-15T03:51:54.554099Z",
     "iopub.status.idle": "2022-01-15T03:51:55.600444Z",
     "shell.execute_reply": "2022-01-15T03:51:55.599315Z"
    },
    "tags": []
   },
   "outputs": [
    {
     "name": "stderr",
     "output_type": "stream",
     "text": [
      "── \u001b[1mAttaching packages\u001b[22m ─────────────────────────────────────── tidyverse 1.3.1 ──\n",
      "\n",
      "\u001b[32m✔\u001b[39m \u001b[34mggplot2\u001b[39m 3.3.5     \u001b[32m✔\u001b[39m \u001b[34mpurrr  \u001b[39m 0.3.4\n",
      "\u001b[32m✔\u001b[39m \u001b[34mtibble \u001b[39m 3.1.6     \u001b[32m✔\u001b[39m \u001b[34mdplyr  \u001b[39m 1.0.7\n",
      "\u001b[32m✔\u001b[39m \u001b[34mtidyr  \u001b[39m 1.1.4     \u001b[32m✔\u001b[39m \u001b[34mstringr\u001b[39m 1.4.0\n",
      "\u001b[32m✔\u001b[39m \u001b[34mreadr  \u001b[39m 2.1.1     \u001b[32m✔\u001b[39m \u001b[34mforcats\u001b[39m 0.5.1\n",
      "\n",
      "── \u001b[1mConflicts\u001b[22m ────────────────────────────────────────── tidyverse_conflicts() ──\n",
      "\u001b[31m✖\u001b[39m \u001b[34mdplyr\u001b[39m::\u001b[32mfilter()\u001b[39m         masks \u001b[34mstats\u001b[39m::filter()\n",
      "\u001b[31m✖\u001b[39m \u001b[34mreadr\u001b[39m::\u001b[32mguess_encoding()\u001b[39m masks \u001b[34mrvest\u001b[39m::guess_encoding()\n",
      "\u001b[31m✖\u001b[39m \u001b[34mdplyr\u001b[39m::\u001b[32mlag()\u001b[39m            masks \u001b[34mstats\u001b[39m::lag()\n",
      "\n"
     ]
    }
   ],
   "source": [
    "source(\"misa_hyena.R\")"
   ]
  },
  {
   "cell_type": "code",
   "execution_count": 2,
   "id": "3ba41105-93bf-4ae2-a2cc-8fff6b38eb4b",
   "metadata": {
    "execution": {
     "iopub.execute_input": "2022-01-15T03:52:02.974236Z",
     "iopub.status.busy": "2022-01-15T03:52:02.946490Z",
     "iopub.status.idle": "2022-01-15T03:52:20.512246Z",
     "shell.execute_reply": "2022-01-15T03:52:20.505275Z"
    },
    "tags": []
   },
   "outputs": [
    {
     "data": {
      "text/plain": [
       "   user  system elapsed \n",
       "  0.281   0.020  17.460 "
      ]
     },
     "metadata": {},
     "output_type": "display_data"
    }
   ],
   "source": [
    "system.time(res <- misa_hyena(\"202202\",golden_time = T))"
   ]
  },
  {
   "cell_type": "code",
   "execution_count": 3,
   "id": "205dc1e8-4fa7-4004-a60b-016d252a0415",
   "metadata": {
    "execution": {
     "iopub.execute_input": "2022-01-15T03:52:20.517516Z",
     "iopub.status.busy": "2022-01-15T03:52:20.516119Z",
     "iopub.status.idle": "2022-01-15T03:52:20.541332Z",
     "shell.execute_reply": "2022-01-15T03:52:20.540173Z"
    },
    "tags": []
   },
   "outputs": [
    {
     "data": {
      "text/html": [
       "<table class=\"dataframe\">\n",
       "<caption>A data.frame: 18 × 7</caption>\n",
       "<thead>\n",
       "\t<tr><th scope=col>일자</th><th scope=col>요일</th><th scope=col>이용시간</th><th scope=col>1코트</th><th scope=col>2코트</th><th scope=col>3코트</th><th scope=col>4코트</th></tr>\n",
       "\t<tr><th scope=col>&lt;date&gt;</th><th scope=col>&lt;chr&gt;</th><th scope=col>&lt;chr&gt;</th><th scope=col>&lt;chr&gt;</th><th scope=col>&lt;chr&gt;</th><th scope=col>&lt;chr&gt;</th><th scope=col>&lt;chr&gt;</th></tr>\n",
       "</thead>\n",
       "<tbody>\n",
       "\t<tr><td>2022-02-01</td><td>화</td><td>18:00 ~ 20:00</td><td>신청가능</td><td>        </td><td>신청가능</td><td>신청가능</td></tr>\n",
       "\t<tr><td>2022-02-01</td><td>화</td><td>20:00 ~ 22:00</td><td>        </td><td>신청가능</td><td>신청가능</td><td>신청가능</td></tr>\n",
       "\t<tr><td>2022-02-02</td><td>수</td><td>18:00 ~ 20:00</td><td>신청가능</td><td>신청가능</td><td>        </td><td>        </td></tr>\n",
       "\t<tr><td>2022-02-02</td><td>수</td><td>20:00 ~ 22:00</td><td>        </td><td>        </td><td>신청가능</td><td>신청가능</td></tr>\n",
       "\t<tr><td>2022-02-03</td><td>목</td><td>18:00 ~ 20:00</td><td>신청가능</td><td>신청가능</td><td>신청가능</td><td>신청가능</td></tr>\n",
       "\t<tr><td>2022-02-03</td><td>목</td><td>20:00 ~ 22:00</td><td>신청가능</td><td>        </td><td>신청가능</td><td>신청가능</td></tr>\n",
       "\t<tr><td>2022-02-06</td><td>일</td><td>18:00 ~ 20:00</td><td>신청가능</td><td>신청가능</td><td>        </td><td>신청가능</td></tr>\n",
       "\t<tr><td>2022-02-06</td><td>일</td><td>20:00 ~ 22:00</td><td>신청가능</td><td>        </td><td>신청가능</td><td>신청가능</td></tr>\n",
       "\t<tr><td>2022-02-07</td><td>월</td><td>18:00 ~ 20:00</td><td>        </td><td>신청가능</td><td>신청가능</td><td>        </td></tr>\n",
       "\t<tr><td>2022-02-07</td><td>월</td><td>20:00 ~ 22:00</td><td>        </td><td>        </td><td>신청가능</td><td>신청가능</td></tr>\n",
       "\t<tr><td>2022-02-08</td><td>화</td><td>18:00 ~ 20:00</td><td>신청가능</td><td>신청가능</td><td>신청가능</td><td>신청가능</td></tr>\n",
       "\t<tr><td>2022-02-08</td><td>화</td><td>20:00 ~ 22:00</td><td>        </td><td>신청가능</td><td>        </td><td>        </td></tr>\n",
       "\t<tr><td>2022-02-09</td><td>수</td><td>18:00 ~ 20:00</td><td>        </td><td>신청가능</td><td>신청가능</td><td>        </td></tr>\n",
       "\t<tr><td>2022-02-09</td><td>수</td><td>20:00 ~ 22:00</td><td>        </td><td>        </td><td>        </td><td>        </td></tr>\n",
       "\t<tr><td>2022-02-10</td><td>목</td><td>18:00 ~ 20:00</td><td>신청가능</td><td>신청가능</td><td>신청가능</td><td>신청가능</td></tr>\n",
       "\t<tr><td>2022-02-10</td><td>목</td><td>20:00 ~ 22:00</td><td>        </td><td>        </td><td>신청가능</td><td>신청가능</td></tr>\n",
       "\t<tr><td>2022-02-13</td><td>일</td><td>18:00 ~ 20:00</td><td>신청가능</td><td>신청가능</td><td>신청가능</td><td>신청가능</td></tr>\n",
       "\t<tr><td>2022-02-13</td><td>일</td><td>20:00 ~ 22:00</td><td>신청가능</td><td>신청가능</td><td>신청가능</td><td>신청가능</td></tr>\n",
       "</tbody>\n",
       "</table>\n"
      ],
      "text/latex": [
       "A data.frame: 18 × 7\n",
       "\\begin{tabular}{lllllll}\n",
       " 일자 & 요일 & 이용시간 & 1코트 & 2코트 & 3코트 & 4코트\\\\\n",
       " <date> & <chr> & <chr> & <chr> & <chr> & <chr> & <chr>\\\\\n",
       "\\hline\n",
       "\t 2022-02-01 & 화 & 18:00 \\textasciitilde{} 20:00 & 신청가능 &          & 신청가능 & 신청가능\\\\\n",
       "\t 2022-02-01 & 화 & 20:00 \\textasciitilde{} 22:00 &          & 신청가능 & 신청가능 & 신청가능\\\\\n",
       "\t 2022-02-02 & 수 & 18:00 \\textasciitilde{} 20:00 & 신청가능 & 신청가능 &          &         \\\\\n",
       "\t 2022-02-02 & 수 & 20:00 \\textasciitilde{} 22:00 &          &          & 신청가능 & 신청가능\\\\\n",
       "\t 2022-02-03 & 목 & 18:00 \\textasciitilde{} 20:00 & 신청가능 & 신청가능 & 신청가능 & 신청가능\\\\\n",
       "\t 2022-02-03 & 목 & 20:00 \\textasciitilde{} 22:00 & 신청가능 &          & 신청가능 & 신청가능\\\\\n",
       "\t 2022-02-06 & 일 & 18:00 \\textasciitilde{} 20:00 & 신청가능 & 신청가능 &          & 신청가능\\\\\n",
       "\t 2022-02-06 & 일 & 20:00 \\textasciitilde{} 22:00 & 신청가능 &          & 신청가능 & 신청가능\\\\\n",
       "\t 2022-02-07 & 월 & 18:00 \\textasciitilde{} 20:00 &          & 신청가능 & 신청가능 &         \\\\\n",
       "\t 2022-02-07 & 월 & 20:00 \\textasciitilde{} 22:00 &          &          & 신청가능 & 신청가능\\\\\n",
       "\t 2022-02-08 & 화 & 18:00 \\textasciitilde{} 20:00 & 신청가능 & 신청가능 & 신청가능 & 신청가능\\\\\n",
       "\t 2022-02-08 & 화 & 20:00 \\textasciitilde{} 22:00 &          & 신청가능 &          &         \\\\\n",
       "\t 2022-02-09 & 수 & 18:00 \\textasciitilde{} 20:00 &          & 신청가능 & 신청가능 &         \\\\\n",
       "\t 2022-02-09 & 수 & 20:00 \\textasciitilde{} 22:00 &          &          &          &         \\\\\n",
       "\t 2022-02-10 & 목 & 18:00 \\textasciitilde{} 20:00 & 신청가능 & 신청가능 & 신청가능 & 신청가능\\\\\n",
       "\t 2022-02-10 & 목 & 20:00 \\textasciitilde{} 22:00 &          &          & 신청가능 & 신청가능\\\\\n",
       "\t 2022-02-13 & 일 & 18:00 \\textasciitilde{} 20:00 & 신청가능 & 신청가능 & 신청가능 & 신청가능\\\\\n",
       "\t 2022-02-13 & 일 & 20:00 \\textasciitilde{} 22:00 & 신청가능 & 신청가능 & 신청가능 & 신청가능\\\\\n",
       "\\end{tabular}\n"
      ],
      "text/markdown": [
       "\n",
       "A data.frame: 18 × 7\n",
       "\n",
       "| 일자 &lt;date&gt; | 요일 &lt;chr&gt; | 이용시간 &lt;chr&gt; | 1코트 &lt;chr&gt; | 2코트 &lt;chr&gt; | 3코트 &lt;chr&gt; | 4코트 &lt;chr&gt; |\n",
       "|---|---|---|---|---|---|---|\n",
       "| 2022-02-01 | 화 | 18:00 ~ 20:00 | 신청가능 | <!----> | 신청가능 | 신청가능 |\n",
       "| 2022-02-01 | 화 | 20:00 ~ 22:00 | <!----> | 신청가능 | 신청가능 | 신청가능 |\n",
       "| 2022-02-02 | 수 | 18:00 ~ 20:00 | 신청가능 | 신청가능 | <!----> | <!----> |\n",
       "| 2022-02-02 | 수 | 20:00 ~ 22:00 | <!----> | <!----> | 신청가능 | 신청가능 |\n",
       "| 2022-02-03 | 목 | 18:00 ~ 20:00 | 신청가능 | 신청가능 | 신청가능 | 신청가능 |\n",
       "| 2022-02-03 | 목 | 20:00 ~ 22:00 | 신청가능 | <!----> | 신청가능 | 신청가능 |\n",
       "| 2022-02-06 | 일 | 18:00 ~ 20:00 | 신청가능 | 신청가능 | <!----> | 신청가능 |\n",
       "| 2022-02-06 | 일 | 20:00 ~ 22:00 | 신청가능 | <!----> | 신청가능 | 신청가능 |\n",
       "| 2022-02-07 | 월 | 18:00 ~ 20:00 | <!----> | 신청가능 | 신청가능 | <!----> |\n",
       "| 2022-02-07 | 월 | 20:00 ~ 22:00 | <!----> | <!----> | 신청가능 | 신청가능 |\n",
       "| 2022-02-08 | 화 | 18:00 ~ 20:00 | 신청가능 | 신청가능 | 신청가능 | 신청가능 |\n",
       "| 2022-02-08 | 화 | 20:00 ~ 22:00 | <!----> | 신청가능 | <!----> | <!----> |\n",
       "| 2022-02-09 | 수 | 18:00 ~ 20:00 | <!----> | 신청가능 | 신청가능 | <!----> |\n",
       "| 2022-02-09 | 수 | 20:00 ~ 22:00 | <!----> | <!----> | <!----> | <!----> |\n",
       "| 2022-02-10 | 목 | 18:00 ~ 20:00 | 신청가능 | 신청가능 | 신청가능 | 신청가능 |\n",
       "| 2022-02-10 | 목 | 20:00 ~ 22:00 | <!----> | <!----> | 신청가능 | 신청가능 |\n",
       "| 2022-02-13 | 일 | 18:00 ~ 20:00 | 신청가능 | 신청가능 | 신청가능 | 신청가능 |\n",
       "| 2022-02-13 | 일 | 20:00 ~ 22:00 | 신청가능 | 신청가능 | 신청가능 | 신청가능 |\n",
       "\n"
      ],
      "text/plain": [
       "   일자       요일 이용시간      1코트    2코트    3코트    4코트   \n",
       "1  2022-02-01 화   18:00 ~ 20:00 신청가능          신청가능 신청가능\n",
       "2  2022-02-01 화   20:00 ~ 22:00          신청가능 신청가능 신청가능\n",
       "3  2022-02-02 수   18:00 ~ 20:00 신청가능 신청가능                  \n",
       "4  2022-02-02 수   20:00 ~ 22:00                   신청가능 신청가능\n",
       "5  2022-02-03 목   18:00 ~ 20:00 신청가능 신청가능 신청가능 신청가능\n",
       "6  2022-02-03 목   20:00 ~ 22:00 신청가능          신청가능 신청가능\n",
       "7  2022-02-06 일   18:00 ~ 20:00 신청가능 신청가능          신청가능\n",
       "8  2022-02-06 일   20:00 ~ 22:00 신청가능          신청가능 신청가능\n",
       "9  2022-02-07 월   18:00 ~ 20:00          신청가능 신청가능         \n",
       "10 2022-02-07 월   20:00 ~ 22:00                   신청가능 신청가능\n",
       "11 2022-02-08 화   18:00 ~ 20:00 신청가능 신청가능 신청가능 신청가능\n",
       "12 2022-02-08 화   20:00 ~ 22:00          신청가능                  \n",
       "13 2022-02-09 수   18:00 ~ 20:00          신청가능 신청가능         \n",
       "14 2022-02-09 수   20:00 ~ 22:00                                    \n",
       "15 2022-02-10 목   18:00 ~ 20:00 신청가능 신청가능 신청가능 신청가능\n",
       "16 2022-02-10 목   20:00 ~ 22:00                   신청가능 신청가능\n",
       "17 2022-02-13 일   18:00 ~ 20:00 신청가능 신청가능 신청가능 신청가능\n",
       "18 2022-02-13 일   20:00 ~ 22:00 신청가능 신청가능 신청가능 신청가능"
      ]
     },
     "metadata": {},
     "output_type": "display_data"
    }
   ],
   "source": [
    "res"
   ]
  }
 ],
 "metadata": {
  "kernelspec": {
   "display_name": "R",
   "language": "R",
   "name": "ir"
  },
  "language_info": {
   "codemirror_mode": "r",
   "file_extension": ".r",
   "mimetype": "text/x-r-source",
   "name": "R",
   "pygments_lexer": "r",
   "version": "4.1.2"
  }
 },
 "nbformat": 4,
 "nbformat_minor": 5
}
