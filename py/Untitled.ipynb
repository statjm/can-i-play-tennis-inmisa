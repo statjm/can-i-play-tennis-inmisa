{
 "cells": [
  {
   "cell_type": "code",
   "execution_count": 1,
   "id": "7f26d9f5-9a8c-45a7-b55c-f22be27c13ba",
   "metadata": {},
   "outputs": [],
   "source": [
    "import requests\n",
    "import pandas as pd\n",
    "\n",
    "from bs4 import BeautifulSoup"
   ]
  },
  {
   "cell_type": "code",
   "execution_count": 2,
   "id": "a5545993-03a6-4748-9d4c-2e9c0054567e",
   "metadata": {
    "tags": []
   },
   "outputs": [],
   "source": [
    "yyyymm = \"202202\"\n",
    "no_court = 1\n",
    "\n",
    "url = \"https://www.hanam.go.kr/www/selectMisaParkResveWeb.do?key=4062&yyyymm={}&misaParkCode=TS0{}&listType=D#n\".format(yyyymm, no_court)\n",
    "\n",
    "response = requests.get(url)\n",
    "\n",
    "if response.status_code == 200:\n",
    "    html = response.text\n",
    "    soup = BeautifulSoup(html, 'html.parser')\n",
    "    # print(soup)\n",
    "\n",
    "else: \n",
    "    print(response.status_code)"
   ]
  },
  {
   "cell_type": "code",
   "execution_count": 3,
   "id": "801deae9-b00d-4aeb-aa1e-d6996e100980",
   "metadata": {},
   "outputs": [],
   "source": [
    "tb_html = soup.find('table',{'class' : 'p-table'})"
   ]
  },
  {
   "cell_type": "code",
   "execution_count": 4,
   "id": "2dbbd8a9-b2f1-4267-bae1-7e04a2686268",
   "metadata": {},
   "outputs": [],
   "source": [
    "tb_html = str(tb_html)"
   ]
  },
  {
   "cell_type": "code",
   "execution_count": 6,
   "id": "20d38e15-b0f7-415b-a684-afd72e3dbe07",
   "metadata": {},
   "outputs": [],
   "source": [
    "table_df_list = pd.read_html(tb_html)"
   ]
  },
  {
   "cell_type": "code",
   "execution_count": 7,
   "id": "8615f96b-e134-4578-8d15-5c81bfea88f2",
   "metadata": {},
   "outputs": [],
   "source": [
    "table_df = table_df_list[0]"
   ]
  },
  {
   "cell_type": "code",
   "execution_count": 11,
   "id": "579ca0ba-ce47-4d2f-ab3e-bb50eeede456",
   "metadata": {},
   "outputs": [
    {
     "data": {
      "text/html": [
       "<div>\n",
       "<style scoped>\n",
       "    .dataframe tbody tr th:only-of-type {\n",
       "        vertical-align: middle;\n",
       "    }\n",
       "\n",
       "    .dataframe tbody tr th {\n",
       "        vertical-align: top;\n",
       "    }\n",
       "\n",
       "    .dataframe thead th {\n",
       "        text-align: right;\n",
       "    }\n",
       "</style>\n",
       "<table border=\"1\" class=\"dataframe\">\n",
       "  <thead>\n",
       "    <tr style=\"text-align: right;\">\n",
       "      <th></th>\n",
       "      <th>일자</th>\n",
       "      <th>이용시간</th>\n",
       "      <th>예약단체</th>\n",
       "      <th>신청하기</th>\n",
       "    </tr>\n",
       "  </thead>\n",
       "  <tbody>\n",
       "    <tr>\n",
       "      <th>0</th>\n",
       "      <td>2022-02-01(화)</td>\n",
       "      <td>1 회06:00 ~ 08:00</td>\n",
       "      <td>NaN</td>\n",
       "      <td>신청불가</td>\n",
       "    </tr>\n",
       "    <tr>\n",
       "      <th>1</th>\n",
       "      <td>2022-02-01(화)</td>\n",
       "      <td>2 회08:00 ~ 10:00</td>\n",
       "      <td>NaN</td>\n",
       "      <td>신청불가</td>\n",
       "    </tr>\n",
       "    <tr>\n",
       "      <th>2</th>\n",
       "      <td>2022-02-01(화)</td>\n",
       "      <td>3 회10:00 ~ 12:00</td>\n",
       "      <td>NaN</td>\n",
       "      <td>신청불가</td>\n",
       "    </tr>\n",
       "    <tr>\n",
       "      <th>3</th>\n",
       "      <td>2022-02-01(화)</td>\n",
       "      <td>4 회12:00 ~ 14:00</td>\n",
       "      <td>NaN</td>\n",
       "      <td>신청불가</td>\n",
       "    </tr>\n",
       "    <tr>\n",
       "      <th>4</th>\n",
       "      <td>2022-02-01(화)</td>\n",
       "      <td>5 회14:00 ~ 16:00</td>\n",
       "      <td>NaN</td>\n",
       "      <td>신청불가</td>\n",
       "    </tr>\n",
       "  </tbody>\n",
       "</table>\n",
       "</div>"
      ],
      "text/plain": [
       "              일자              이용시간 예약단체  신청하기\n",
       "0  2022-02-01(화)  1 회06:00 ~ 08:00  NaN  신청불가\n",
       "1  2022-02-01(화)  2 회08:00 ~ 10:00  NaN  신청불가\n",
       "2  2022-02-01(화)  3 회10:00 ~ 12:00  NaN  신청불가\n",
       "3  2022-02-01(화)  4 회12:00 ~ 14:00  NaN  신청불가\n",
       "4  2022-02-01(화)  5 회14:00 ~ 16:00  NaN  신청불가"
      ]
     },
     "execution_count": 11,
     "metadata": {},
     "output_type": "execute_result"
    }
   ],
   "source": [
    "table_df.head()"
   ]
  },
  {
   "cell_type": "code",
   "execution_count": 16,
   "id": "2d38de68-6a25-479f-9fc6-b84e0d2eca8f",
   "metadata": {},
   "outputs": [],
   "source": [
    "table_df['이용시간'] = table_df['이용시간'].apply(lambda x: x.split(\"회\")[1])"
   ]
  },
  {
   "cell_type": "code",
   "execution_count": 22,
   "id": "f71cf9ac-15c7-47c0-a32e-a2b2b1d22e2b",
   "metadata": {},
   "outputs": [],
   "source": [
    "table_df['요일'] = table_df['일자'].apply(lambda x: x[-2])\n",
    "table_df['일자'] = table_df['일자'].apply(lambda x: x[0:10])"
   ]
  },
  {
   "cell_type": "code",
   "execution_count": 24,
   "id": "735e98e4-5d67-4fbc-89ae-7f1be4cc8f2a",
   "metadata": {},
   "outputs": [],
   "source": [
    "table_df['코트번호'] = no_court"
   ]
  },
  {
   "cell_type": "code",
   "execution_count": 29,
   "id": "7397a0f8-fc9b-4b35-b0c6-11d174a23557",
   "metadata": {},
   "outputs": [],
   "source": [
    "df_dict = {str(no_court)+'코트' : table_df}"
   ]
  }
 ],
 "metadata": {
  "kernelspec": {
   "display_name": "Python 3 (ipykernel)",
   "language": "python",
   "name": "python3"
  },
  "language_info": {
   "codemirror_mode": {
    "name": "ipython",
    "version": 3
   },
   "file_extension": ".py",
   "mimetype": "text/x-python",
   "name": "python",
   "nbconvert_exporter": "python",
   "pygments_lexer": "ipython3",
   "version": "3.9.7"
  }
 },
 "nbformat": 4,
 "nbformat_minor": 5
}
